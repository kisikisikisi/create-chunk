{
 "cells": [
  {
   "cell_type": "markdown",
   "metadata": {},
   "source": [
    "# CloudVision"
   ]
  },
  {
   "cell_type": "code",
   "execution_count": 1,
   "metadata": {},
   "outputs": [
    {
     "ename": "ImportError",
     "evalue": "No module named 'google.cloud'",
     "output_type": "error",
     "traceback": [
      "\u001b[1;31m---------------------------------------------------------------------------\u001b[0m",
      "\u001b[1;31mImportError\u001b[0m                               Traceback (most recent call last)",
      "\u001b[1;32m<ipython-input-1-3c63a44fa6cb>\u001b[0m in \u001b[0;36m<module>\u001b[1;34m()\u001b[0m\n\u001b[0;32m      8\u001b[0m \u001b[1;33m\u001b[0m\u001b[0m\n\u001b[0;32m      9\u001b[0m \u001b[1;31m# Google Cloud client libraryのインポート\u001b[0m\u001b[1;33m\u001b[0m\u001b[1;33m\u001b[0m\u001b[0m\n\u001b[1;32m---> 10\u001b[1;33m \u001b[1;32mfrom\u001b[0m \u001b[0mgoogle\u001b[0m\u001b[1;33m.\u001b[0m\u001b[0mcloud\u001b[0m \u001b[1;32mimport\u001b[0m \u001b[0mvision\u001b[0m\u001b[1;33m\u001b[0m\u001b[0m\n\u001b[0m\u001b[0;32m     11\u001b[0m \u001b[1;32mfrom\u001b[0m \u001b[0mgoogle\u001b[0m\u001b[1;33m.\u001b[0m\u001b[0mcloud\u001b[0m\u001b[1;33m.\u001b[0m\u001b[0mvision\u001b[0m \u001b[1;32mimport\u001b[0m \u001b[0mtypes\u001b[0m\u001b[1;33m\u001b[0m\u001b[0m\n\u001b[0;32m     12\u001b[0m \u001b[1;33m\u001b[0m\u001b[0m\n",
      "\u001b[1;31mImportError\u001b[0m: No module named 'google.cloud'"
     ]
    }
   ],
   "source": [
    "# -*- coding: utf_8 -*-\n",
    "import io\n",
    "import os\n",
    "import json\n",
    "import glob\n",
    "\n",
    "from pprint import pprint\n",
    "\n",
    "# Google Cloud client libraryのインポート\n",
    "from google.cloud import vision\n",
    "from google.cloud.vision import types\n",
    "\n",
    "from google.protobuf.json_format import MessageToJson\n",
    "\n",
    "def annotate(basename):\n",
    "    # 画像のファイルパス\n",
    "    file_name = os.path.join(\n",
    "        os.path.dirname(__file__),\n",
    "        '/{}'.format(basename))\n",
    "\n",
    "    # 画像のロード\n",
    "    with io.open(file_name, 'rb') as image_file:\n",
    "        content = image_file.read()\n",
    "\n",
    "    image = types.Image(content=content)\n",
    "\n",
    "    # 日本語のヒントを与える\n",
    "    image_context = types.ImageContext(language_hints=['ja'])\n",
    "\n",
    "    response = client.text_detection(image=image,image_context=image_context)\n",
    "\n",
    "    # JSON ファイル書き出し\n",
    "    serialized = MessageToJson(response)\n",
    "    data = json.loads(serialized)\n",
    "\n",
    "    f = open('results/{}.json'.format(os.path.splitext(basename)[0]), 'w')\n",
    "    f.write(json.dumps(data,ensure_ascii=False))\n",
    "    f.close()\n",
    "\n",
    "# クライアント初期化\n",
    "client = vision.ImageAnnotatorClient()\n",
    "\n",
    "# resources フォルダ内の画像をすべてAPIに投げる\n",
    "paths = glob.glob(\"/*.png\")\n",
    "\n",
    "for path in paths:\n",
    "    annotate(os.path.basename(path))"
   ]
  },
  {
   "cell_type": "markdown",
   "metadata": {},
   "source": [
    "# Create thumbnail data"
   ]
  },
  {
   "cell_type": "code",
   "execution_count": null,
   "metadata": {},
   "outputs": [],
   "source": [
    "import requests\n",
    "import os\n",
    "import json\n",
    "from time import sleep\n",
    "\n",
    "json_open = open('history.json', 'r', encoding='utf8')\n",
    "json_load = json.load(json_open)\n",
    "\n",
    "for i in range(len(json_load)):\n",
    "    url = \"https://s.wordpress.com/mshots/v1/\" + str(json_load[i][\"url\"])\n",
    "    # Responseオブジェクトの生成\n",
    "    res = requests.get(url)\n",
    "\n",
    "    print(url)\n",
    "    # レスポンスの中身（最初の200文字）\n",
    "    print(res.headers['Content-Type'],i)\n",
    "    fn = \"\"\n",
    "    if \"jpeg\" in res.headers['Content-Type']:\n",
    "        fn = \".jpeg\"\n",
    "    else:\n",
    "        fn = \".gif\"\n",
    "    sleep(20)\n",
    "    with open(\"C:\\\\Users\\\\bi17030\\\\Documents\\\\Research\\\\thumbnail_data\\\\\" + \n",
    "              \"image\" + str(i) + fn, 'wb') as f:\n",
    "        f.write(res.content)"
   ]
  },
  {
   "cell_type": "markdown",
   "metadata": {},
   "source": [
    "# Janome"
   ]
  },
  {
   "cell_type": "code",
   "execution_count": 61,
   "metadata": {
    "scrolled": true
   },
   "outputs": [
    {
     "name": "stdout",
     "output_type": "stream",
     "text": [
      "History export - Chrome ウェブストア\n",
      "    History\n",
      "    export\n",
      "    -\n",
      "    Chrome\n",
      "    ウェブストア\n"
     ]
    }
   ],
   "source": [
    "import json\n",
    "from janome.tokenizer import Tokenizer\n",
    "\n",
    "tokenizer = Tokenizer()\n",
    "json_open = open('history.json', 'r', encoding='utf8')\n",
    "json_load = json.load(json_open)\n",
    "\n",
    "with open(\"sample.lisp\",mode=\"a\", encoding='utf8') as f:\n",
    "    for i in range(1):\n",
    "        print(json_load[i][\"title\"])\n",
    "        f.write('(setf *image-struct* ' + '((\"image' + str(i) + '\" ' + '0 0 0 0 BLUE)' + '\\n')\n",
    "        sentenses = [str(json_load[i][\"title\"])]\n",
    "        for sentence in sentenses:\n",
    "            for token in tokenizer.tokenize(sentence):\n",
    "                if str(token.surface) != \" \":\n",
    "                    f.write('(\"' + str(token.surface) + '\" 0 0 0 0 GREEN)\\n')\n",
    "                    print(\"    \" + str(token.surface))\n",
    "        f.write(\"))\")"
   ]
  },
  {
   "cell_type": "code",
   "execution_count": null,
   "metadata": {},
   "outputs": [],
   "source": [
    "(setf *image-struct* '((\"image0\" 10 10 10 10 BLUE)\n",
    "(\"History\" 0 0 0 0 GREEN)\n",
    "(\"export\" 0 0 0 0 GREEN)\n",
    "(\"Chrome\" 0 0 0 0 GREEN)\n",
    "(\"ウェブストア\" 0 0 0 0 GREEN)\n",
    "))"
   ]
  },
  {
   "cell_type": "code",
   "execution_count": 22,
   "metadata": {},
   "outputs": [
    {
     "name": "stdout",
     "output_type": "stream",
     "text": [
      "(setf *image-struct* \"image0\" History export - Chrome ウェブストア\n"
     ]
    }
   ],
   "source": [
    "with open(\"sample.txt\", mode='a') as f:\n",
    "    f.write('\\nFour')\n",
    "\n",
    "with open(\"sample.lisp\") as f:\n",
    "    print(f.read())"
   ]
  },
  {
   "cell_type": "code",
   "execution_count": 35,
   "metadata": {},
   "outputs": [
    {
     "name": "stdout",
     "output_type": "stream",
     "text": [
      "=============================================\n",
      "History export - Chrome ウェブストア\n",
      "    History\n",
      "     \n",
      "    export\n",
      "     \n",
      "    -\n",
      "     \n",
      "    Chrome\n",
      "     \n",
      "    ウェブストア\n",
      "=============================================\n",
      "さあご一緒に！「TRUE 1 が TRUE！ TRUE 0 が FALSE！」\n",
      "    さあ\n",
      "    ご\n",
      "    一緒\n",
      "    に\n",
      "    ！\n",
      "    「\n",
      "    TRUE\n",
      "     \n",
      "    1\n",
      "     \n",
      "    が\n",
      "     \n",
      "    TRUE\n",
      "    ！\n",
      "     \n",
      "    TRUE\n",
      "     \n",
      "    0\n",
      "     \n",
      "    が\n",
      "     \n",
      "    FALSE\n",
      "    ！\n",
      "    」\n"
     ]
    }
   ],
   "source": [
    "from janome.tokenizer import Tokenizer\n",
    "\n",
    "tokenizer = Tokenizer()\n",
    "\n",
    "sentenses = [\n",
    "    \"History export - Chrome ウェブストア\",\n",
    "    \"さあご一緒に！「TRUE 1 が TRUE！ TRUE 0 が FALSE！」\"\n",
    "]\n",
    "\n",
    "for sentence in sentenses:\n",
    "    print(\"=============================================\")\n",
    "    print(sentence)\n",
    "\n",
    "    for token in tokenizer.tokenize(sentence):\n",
    "        print(\"    \" + str(token.surface))"
   ]
  }
 ],
 "metadata": {
  "kernelspec": {
   "display_name": "Python 3",
   "language": "python",
   "name": "python3"
  },
  "language_info": {
   "codemirror_mode": {
    "name": "ipython",
    "version": 3
   },
   "file_extension": ".py",
   "mimetype": "text/x-python",
   "name": "python",
   "nbconvert_exporter": "python",
   "pygments_lexer": "ipython3",
   "version": "3.5.5"
  },
  "toc": {
   "base_numbering": 1,
   "nav_menu": {},
   "number_sections": true,
   "sideBar": true,
   "skip_h1_title": false,
   "title_cell": "Table of Contents",
   "title_sidebar": "Contents",
   "toc_cell": false,
   "toc_position": {},
   "toc_section_display": true,
   "toc_window_display": false
  }
 },
 "nbformat": 4,
 "nbformat_minor": 2
}
