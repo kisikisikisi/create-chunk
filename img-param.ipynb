{
 "cells": [
  {
   "cell_type": "markdown",
   "metadata": {},
   "source": [
    "(sdp 781 :creation-time 12313 :reference-list())\n",
    "(sdp 781-Chrome :creation-time 12313 :reference-list())\n",
    "(sdp l-headgear :creation-time 1580985649 :reference-list (1580985649))\n",
    "(sdp 781-time2 :creation-time 12313 :reference-list())"
   ]
  },
  {
   "cell_type": "code",
   "execution_count": 51,
   "metadata": {},
   "outputs": [
    {
     "name": "stdout",
     "output_type": "stream",
     "text": [
      "0 (add-dm-fct '((872 isa image-data text \"872\" type image)\n",
      "\n",
      "1 (872-json isa inc-label idata 872 label l-json)\n",
      "\n",
      "2 (l-json isa label-data text \"json\")\n",
      "\n",
      "3 (872-- isa inc-label idata 872 label l--)\n",
      "\n",
      "4 (l-- isa label-data text \"-\")\n",
      "\n",
      "5 (872-xls isa inc-label idata 872 label l-xls)\n",
      "\n",
      "6 (l-xls isa label-data text \"xls\")\n",
      "\n",
      "7 (872-com isa inc-label idata 872 label l-com)\n",
      "\n",
      "8 (l-com isa label-data text \"com\")\n",
      "\n",
      "9 (872-- isa inc-label idata 872 label l--)\n",
      "\n",
      "10 (l-- isa label-data text \"-\")\n",
      "\n",
      "11 (872-json isa inc-label idata 872 label l-json)\n",
      "\n",
      "12 (l-json isa label-data text \"json\")\n",
      "\n",
      "13 (872-/ isa inc-label idata 872 label l-/)\n",
      "\n",
      "14 (l-/ isa label-data text \"/\")\n",
      "\n",
      "15 (872-xml isa inc-label idata 872 label l-xml)\n",
      "\n",
      "16 (l-xml isa label-data text \"xml\")\n",
      "\n",
      "17 (872-to isa inc-label idata 872 label l-to)\n",
      "\n",
      "18 (l-to isa label-data text \"to\")\n",
      "\n",
      "19 (872-excel isa inc-label idata 872 label l-excel)\n",
      "\n",
      "20 (l-excel isa label-data text \"excel\")\n",
      "\n",
      "21 (872-/ isa inc-label idata 872 label l-/)\n",
      "\n",
      "22 (l-/ isa label-data text \"/\")\n",
      "\n",
      "23 (872-CSV isa inc-label idata 872 label l-CSV)\n",
      "\n",
      "24 (l-CSV isa label-data text \"CSV\")\n",
      "\n",
      "25 (872-/ isa inc-label idata 872 label l-/)\n",
      "\n",
      "26 (l-/ isa label-data text \"/\")\n",
      "\n",
      "27 (872-html isa inc-label idata 872 label l-html)\n",
      "\n",
      "28 (l-html isa label-data text \"html\")\n",
      "\n",
      "29 (872-online isa inc-label idata 872 label l-online)\n",
      "\n",
      "30 (l-online isa label-data text \"online\")\n",
      "\n",
      "31 (872-converter isa inc-label idata 872 label l-converter)\n",
      "\n",
      "32 (l-converter isa label-data text \"converter\")\n",
      "\n",
      "33 (872-and isa inc-label idata 872 label l-and)\n",
      "\n",
      "34 (l-and isa label-data text \"and\")\n",
      "\n",
      "35 (872-viewer isa inc-label idata 872 label l-viewer)\n",
      "\n",
      "36 (l-viewer isa label-data text \"viewer\")\n",
      "\n",
      "37 (872-time4 isa time-data idata 872 time time4)\n",
      "\n",
      "38 ))\n",
      "38\n"
     ]
    }
   ],
   "source": [
    "with open('img-dm2.lisp', mode=\"r\", encoding='utf8') as f:\n",
    "    for i,j in enumerate(f):\n",
    "        print(i,j)\n",
    "print(i)\n",
    "leng = str(i)"
   ]
  },
  {
   "cell_type": "code",
   "execution_count": 52,
   "metadata": {},
   "outputs": [
    {
     "name": "stdout",
     "output_type": "stream",
     "text": [
      "{'typedCount': 0, 'url': 'http://www.json-xls.com/', 'lastVisitTimeTimestamp': 1587381226297.221, 'id': '872', 'lastVisitTime': '2020/4/20 20:13:46', 'visitCount': 1, 'title': 'json-xls.com - json/xml to excel/CSV/html online converter and viewer'}\n",
      "1587378\n"
     ]
    }
   ],
   "source": [
    "import json\n",
    "\n",
    "json_open = open('history.json', 'r', encoding='utf8')\n",
    "json_load = json.load(json_open)\n",
    "\n",
    "time = 10**15\n",
    "for i in range(len(json_load)):\n",
    "    time = min(json_load[i]['lastVisitTimeTimestamp'],time)\n",
    "    if json_load[i]['id'] == '872':\n",
    "        print(json_load[i])\n",
    "time = int(time//1000)\n",
    "print(time//1000)\n",
    "time = 1587381226"
   ]
  },
  {
   "cell_type": "code",
   "execution_count": 53,
   "metadata": {},
   "outputs": [
    {
     "name": "stdout",
     "output_type": "stream",
     "text": [
      "./idata\\872.lisp\n"
     ]
    }
   ],
   "source": [
    "#create image data\n",
    "import glob\n",
    "import os\n",
    "files = glob.glob(\"./idata/*\")\n",
    "\n",
    "#(sdp 781 :creation-time 12313 :reference-list())\n",
    "\n",
    "for file in files:\n",
    "    with open(file ,mode=\"r\", encoding='utf8') as f:\n",
    "        with open(\"img-param2.lisp\",mode=\"a\", encoding='utf8') as f2:\n",
    "            s = \"\"\n",
    "            tmp = 0\n",
    "            for line in f.readlines():\n",
    "                for text in line:\n",
    "                    if text == '\"':\n",
    "                        tmp += 1\n",
    "                        if tmp == 1:\n",
    "                            continue\n",
    "                    if tmp == 1:\n",
    "                        s += text\n",
    "                    elif tmp == 2:\n",
    "                        break\n",
    "                f2.write('(sdp '+s+' :creation-time '+str(time)+' :reference-count '+leng+')\\n')\n",
    "                break\n",
    "        print(file)\n",
    "        "
   ]
  },
  {
   "cell_type": "code",
   "execution_count": 54,
   "metadata": {},
   "outputs": [
    {
     "name": "stdout",
     "output_type": "stream",
     "text": [
      "./idata\\872.lisp\n"
     ]
    }
   ],
   "source": [
    "#create label data\n",
    "import glob\n",
    "import os\n",
    "files = glob.glob(\"./idata/*\")\n",
    "#(sdp 781-Chrome :creation-time 12313 :reference-list())\n",
    "#(sdp l-headgear :creation-time 1580985649 :reference-list (1580985649))\n",
    "for file in files:\n",
    "    with open(file ,mode=\"r\", encoding='utf8') as f:\n",
    "        with open(\"img-param2.lisp\",mode=\"a\", encoding='utf8') as f2:\n",
    "            ls = []\n",
    "            for line in f.readlines():\n",
    "                s = \"\"\n",
    "                tmp = 0\n",
    "                for i in range(len(line)):\n",
    "                    if line[i] == '\"':\n",
    "                        tmp += 1\n",
    "                        if tmp == 1:\n",
    "                            continue\n",
    "                    if tmp == 2:\n",
    "                        break\n",
    "                    elif tmp == 1:\n",
    "                        s += str(line[i])\n",
    "                if s == \"\":\n",
    "                    break\n",
    "                ls.append(s)\n",
    "                if ls[0] == s:\n",
    "                    continue\n",
    "                f2.write('(sdp '+str(ls[0])+\"-\"+s+\" :creation-time \"+str(time)+' :reference-count '+leng+')\\n')\n",
    "                #f2.write('(sdp '+ str(ls[0])+ ' :creation-time '+str(time)+' :reference-count '+leng+')\\n')\n",
    "        print(file)\n",
    "        "
   ]
  },
  {
   "cell_type": "code",
   "execution_count": 55,
   "metadata": {},
   "outputs": [
    {
     "name": "stdout",
     "output_type": "stream",
     "text": [
      "time4\n",
      "./idata\\872.lisp\n"
     ]
    }
   ],
   "source": [
    "#create time data\n",
    "import glob\n",
    "import os\n",
    "import json\n",
    "files = glob.glob(\"./idata/*\")\n",
    "json_open = open('history.json', 'r', encoding='utf8')\n",
    "json_load = json.load(json_open)\n",
    "\n",
    "def time_classify(time):\n",
    "    if time[5] == '4':\n",
    "        return 'time4'\n",
    "    elif time[5] == '3':\n",
    "        return 'time3'\n",
    "    elif time[5] == '2':\n",
    "        return 'time2'\n",
    "\n",
    "for file in files:\n",
    "    with open(file ,mode=\"r\", encoding='utf8') as f:\n",
    "        with open(\"img-param2.lisp\",mode=\"a\", encoding='utf8') as f2:\n",
    "            s = \"\"\n",
    "            tmp = 0\n",
    "            for line in f.readlines():\n",
    "                for text in line:\n",
    "                    if text == '\"':\n",
    "                        tmp += 1\n",
    "                        if tmp == 1:\n",
    "                            continue\n",
    "                    if tmp == 1:\n",
    "                        s += text\n",
    "                    elif tmp == 2:\n",
    "                        break\n",
    "                for i in range(len(json_load)):\n",
    "                    if json_load[i]['id'] == s:\n",
    "                        times = time_classify(json_load[i]['lastVisitTime'])\n",
    "                        print(time)\n",
    "                        f2.write('(sdp '+s+'-'+times+' :creation-time '+time+' :reference-count '+leng+')\\n')\n",
    "                        break\n",
    "                break\n",
    "        print(file)\n",
    "        \n",
    "#(sdp 781-time2 :creation-time 12313 :reference-list())"
   ]
  },
  {
   "cell_type": "code",
   "execution_count": null,
   "metadata": {},
   "outputs": [],
   "source": []
  },
  {
   "cell_type": "code",
   "execution_count": null,
   "metadata": {},
   "outputs": [],
   "source": []
  }
 ],
 "metadata": {
  "kernelspec": {
   "display_name": "Python 3",
   "language": "python",
   "name": "python3"
  },
  "language_info": {
   "codemirror_mode": {
    "name": "ipython",
    "version": 3
   },
   "file_extension": ".py",
   "mimetype": "text/x-python",
   "name": "python",
   "nbconvert_exporter": "python",
   "pygments_lexer": "ipython3",
   "version": "3.5.5"
  },
  "toc": {
   "base_numbering": 1,
   "nav_menu": {},
   "number_sections": true,
   "sideBar": true,
   "skip_h1_title": false,
   "title_cell": "Table of Contents",
   "title_sidebar": "Contents",
   "toc_cell": false,
   "toc_position": {},
   "toc_section_display": true,
   "toc_window_display": false
  }
 },
 "nbformat": 4,
 "nbformat_minor": 2
}
