{
 "cells": [
  {
   "cell_type": "code",
   "execution_count": null,
   "metadata": {},
   "outputs": [],
   "source": [
    "(sdp image0-Chrome :creation-time 12313 :reference-list())"
   ]
  },
  {
   "cell_type": "code",
   "execution_count": null,
   "metadata": {},
   "outputs": [],
   "source": [
    "import glob\n",
    "import os\n",
    "files = glob.glob(\"./idata/*\")\n",
    "\n",
    "\n",
    "for file in files:\n",
    "    img = \"\"\n",
    "    for i in range(13,len(file)):\n",
    "        if file[i] == '.':\n",
    "            break\n",
    "        img += str(file[i]) \n",
    "    with open(file ,mode=\"r\", encoding='utf8') as f:\n",
    "        with open(\"img-param2.lisp\",mode=\"a\", encoding='utf8') as f2:\n",
    "            tmp = 0\n",
    "            for line in f.readlines():\n",
    "                s = \"\"\n",
    "                for i in range(2,len(line)):\n",
    "                    if line[i] == '\"':\n",
    "                        break\n",
    "                    s += str(line[i])\n",
    "                if \"image-struct\" in s:\n",
    "                    continue\n",
    "                f2.write('sdp' + ' (image'+img+\"-\"+s+\" :creation-time\"+img+' :reference-list'+S+')\\n')\n",
    "                tmp = 1\n",
    "        print(img)"
   ]
  }
 ],
 "metadata": {
  "kernelspec": {
   "display_name": "Python 3",
   "language": "python",
   "name": "python3"
  },
  "language_info": {
   "codemirror_mode": {
    "name": "ipython",
    "version": 3
   },
   "file_extension": ".py",
   "mimetype": "text/x-python",
   "name": "python",
   "nbconvert_exporter": "python",
   "pygments_lexer": "ipython3",
   "version": "3.5.5"
  },
  "toc": {
   "base_numbering": 1,
   "nav_menu": {},
   "number_sections": true,
   "sideBar": true,
   "skip_h1_title": false,
   "title_cell": "Table of Contents",
   "title_sidebar": "Contents",
   "toc_cell": false,
   "toc_position": {},
   "toc_section_display": true,
   "toc_window_display": false
  }
 },
 "nbformat": 4,
 "nbformat_minor": 2
}
